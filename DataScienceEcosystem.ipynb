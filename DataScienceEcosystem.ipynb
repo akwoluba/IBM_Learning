{
 "cells": [
  {
   "cell_type": "markdown",
   "id": "d0b9eb56-10d8-486b-b9fa-dcf68d94a20e",
   "metadata": {},
   "source": [
    "## Author"
   ]
  },
  {
   "cell_type": "markdown",
   "id": "f1815981-240c-4c4d-8d63-bf41dbeb0e7d",
   "metadata": {},
   "source": [
    "Alleluia Kekimuri"
   ]
  },
  {
   "cell_type": "markdown",
   "id": "43543236-4987-4809-8c2b-24c185c3a03a",
   "metadata": {},
   "source": [
    "# H1 Data Science Tools and Ecosystem"
   ]
  },
  {
   "cell_type": "markdown",
   "id": "bfbd9d52-50c7-4dd0-af6d-d7b687008c0d",
   "metadata": {},
   "source": [
    "In this notebook, Data Science Tools and Ecosystem are summarized."
   ]
  },
  {
   "cell_type": "markdown",
   "id": "a5383806-a137-4554-84de-88acc262930c",
   "metadata": {},
   "source": [
    "**Objectives:** List popular languages for Data Science\n",
    "+ Python\n",
    "+ R\n",
    "+ C++"
   ]
  },
  {
   "cell_type": "markdown",
   "id": "1327063a-1cbc-47f9-9b9d-99b20eb50eac",
   "metadata": {},
   "source": [
    "Some of the popular languages that Data Scientists use are:\n",
    "1. Python\n",
    "2. R\n",
    "3. C++"
   ]
  },
  {
   "cell_type": "markdown",
   "id": "d9633e61-bfbf-4cac-9208-91cafe609250",
   "metadata": {},
   "source": [
    "Some of the commonly used libraries used by Data Scientists include:\n",
    "1. NumPy\n",
    "2. Pandas\n",
    "3. MatPlotlib\n",
    "4. Keras\n",
    "5. PyTorch\n",
    "6. Seaborn"
   ]
  },
  {
   "cell_type": "markdown",
   "id": "b5eadd94-ce3b-4b64-9ac7-23866dd3e27d",
   "metadata": {},
   "source": [
    "| Data Science Tools |\n",
    "| ------------------ |\n",
    "| Jupyter Notebooks |\n",
    "| R-Studio |\n",
    "| VS Code |"
   ]
  },
  {
   "cell_type": "markdown",
   "id": "328b37c7-7c2b-46c5-b52c-319e1e3b2e95",
   "metadata": {},
   "source": [
    "### Below are a few examples of evaluating arithmetic expressions in Python"
   ]
  },
  {
   "cell_type": "code",
   "execution_count": 1,
   "id": "e7ef8764-07e1-4c1a-bb09-343b7931394b",
   "metadata": {},
   "outputs": [
    {
     "data": {
      "text/plain": [
       "17"
      ]
     },
     "execution_count": 1,
     "metadata": {},
     "output_type": "execute_result"
    }
   ],
   "source": [
    "##This a simple arithmetic expression to mutiply then add integers\n",
    "(3*4)+5"
   ]
  },
  {
   "cell_type": "code",
   "execution_count": 4,
   "id": "be9e3417-1afa-41c7-a64b-3c38bb43f4ab",
   "metadata": {},
   "outputs": [
    {
     "data": {
      "text/plain": [
       "3.33"
      ]
     },
     "execution_count": 4,
     "metadata": {},
     "output_type": "execute_result"
    }
   ],
   "source": [
    "## This will convert 200 minutes to hours by diving by 60\n",
    "round(200/60, 2)"
   ]
  },
  {
   "cell_type": "code",
   "execution_count": null,
   "id": "cd0b496c-42c2-4372-bbea-6cbec2b2d12b",
   "metadata": {},
   "outputs": [],
   "source": []
  }
 ],
 "metadata": {
  "kernelspec": {
   "display_name": "Python 3 (ipykernel)",
   "language": "python",
   "name": "python3"
  },
  "language_info": {
   "codemirror_mode": {
    "name": "ipython",
    "version": 3
   },
   "file_extension": ".py",
   "mimetype": "text/x-python",
   "name": "python",
   "nbconvert_exporter": "python",
   "pygments_lexer": "ipython3",
   "version": "3.9.18"
  }
 },
 "nbformat": 4,
 "nbformat_minor": 5
}
